{
 "cells": [
  {
   "cell_type": "code",
   "execution_count": 1,
   "metadata": {},
   "outputs": [],
   "source": [
    "import jsonstream\n",
    "BF='C:/Users/richk/Downloads/FoodData_Central_branded_food_json_2021-10-28/FoodData_Central_branded_food_json_2021-10-28.json'\n"
   ]
  },
  {
   "cell_type": "code",
   "execution_count": 2,
   "metadata": {},
   "outputs": [],
   "source": [
    "\n",
    "def extract_food_detail(doc, outfd, header=False):\n",
    "    \"\"\"will load a single USDA food document, extract out the relevant parts of that\n",
    "    document, and then write a simplied record to the stream outfd.  If header is true\n",
    "    it will also write a header record\n",
    "\n",
    "    Args:\n",
    "        doc (dict): USDA dictionary loaded from the USDA json data\n",
    "        outfd (stream): output stream for the results\n",
    "        header (bool, optional): if true this method will first write a header. Defaults to False.\n",
    "    \"\"\"\n",
    "    if header:\n",
    "        print(f'desc|servignsize|servignsizeunits|fat|calories', file=outfd)\n",
    "    desc = doc['description']\n",
    "    desc = str.lower(desc)\n",
    "\n",
    "    servignsize=doc.get('servingSize', 0)\n",
    "    servignsizeunits=doc.get('servingSizeUnit', 0)\n",
    "\n",
    "    fat = \"\"\n",
    "    if 'fat' in doc['labelNutrients']:\n",
    "        fat = doc['labelNutrients']['fat']['value']\n",
    "\n",
    "    calories = \"\"\n",
    "    if 'calories' in doc['labelNutrients']:\n",
    "        calories = doc['labelNutrients']['calories']['value']\n",
    "\n",
    "    print(f'{desc}|{servignsize}|{servignsizeunits}|{fat}|{calories}', file=outfd)\n",
    "\n",
    "\n"
   ]
  },
  {
   "cell_type": "code",
   "execution_count": 3,
   "metadata": {},
   "outputs": [],
   "source": [
    "\"\"\"\n",
    "1. open the file FoodData_Central_branded_food_json_2021-10-28.json\n",
    "2. read the first line from that file in order to move the file pointer to the list of json objects\n",
    "3. open a file to write the output as CSV\n",
    "4. use jsonstream to iterate over the items in the list\n",
    "5. call extract_food_detail() on each item in the list, print the header the first time through\n",
    "\"\"\"\n",
    "with open(BF, 'r', encoding='utf-8') as mfd:\n",
    "    mfd.readline()\n",
    "    with open('details.csv', 'w') as of:\n",
    "        first=True\n",
    "        for doc in jsonstream.json_list_stream(mfd):\n",
    "            extract_food_detail(doc, of, header=first)\n",
    "            first=False\n"
   ]
  }
 ],
 "metadata": {
  "interpreter": {
   "hash": "9cdb4179b721d9af81cd1877324650ec76fbae66a132e30e74fa62b60839c5f2"
  },
  "kernelspec": {
   "display_name": "Python 3.7.3 ('base')",
   "language": "python",
   "name": "python3"
  },
  "language_info": {
   "codemirror_mode": {
    "name": "ipython",
    "version": 3
   },
   "file_extension": ".py",
   "mimetype": "text/x-python",
   "name": "python",
   "nbconvert_exporter": "python",
   "pygments_lexer": "ipython3",
   "version": "3.7.3"
  },
  "orig_nbformat": 4
 },
 "nbformat": 4,
 "nbformat_minor": 2
}
